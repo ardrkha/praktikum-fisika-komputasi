{
  "nbformat": 4,
  "nbformat_minor": 0,
  "metadata": {
    "colab": {
      "provenance": []
    },
    "kernelspec": {
      "name": "python3",
      "display_name": "Python 3"
    },
    "language_info": {
      "name": "python"
    }
  },
  "cells": [
    {
      "cell_type": "code",
      "execution_count": null,
      "metadata": {
        "colab": {
          "base_uri": "https://localhost:8080/",
          "height": 521
        },
        "id": "Vn27Y0B0Y284",
        "outputId": "286c1161-05ab-4ab4-c0b0-f7a396c028c9"
      },
      "outputs": [
        {
          "output_type": "stream",
          "name": "stdout",
          "text": [
            "METODE GAUSS SEIDEL\n",
            "___________________________________________________\n",
            " i a1 a2 a3 ERROR\n",
            "___________________________________________________\n",
            "  1  5.0000000  4.0000000  3.0000000  7.0710678\n",
            "  2  5.0000000  4.0000000  3.0000000  0.0000000\n",
            "___________________________________________________\n",
            "hasil akhir=\n",
            "pada iterasi ke-2\n",
            "a1= 5.0000000\n",
            "a2= 4.0000000\n",
            "a3= 3.0000000\n",
            "___________________________________________________\n"
          ]
        },
        {
          "output_type": "display_data",
          "data": {
            "text/plain": [
              "<Figure size 432x288 with 1 Axes>"
            ],
            "image/png": "[encoded data removed]"
          },
          "metadata": {
            "needs_background": "light"
          }
        }
      ],
      "source": [
        "import numpy as np\n",
        "import matplotlib.pyplot as plt\n",
        "\n",
        "N = 3\n",
        "A = np.array([[2, 0, 0],\n",
        "              [0, 2, 0],\n",
        "              [0, 0, 2]])\n",
        "B = np.array([10, 8, 6])\n",
        "C = np.column_stack((A, B))\n",
        "\n",
        "# GAUSS SEIDEL\n",
        "print('METODE GAUSS SEIDEL')\n",
        "C = np.column_stack((A, B))\n",
        "Imax = 100\n",
        "Tol = 0.000001\n",
        "\n",
        "# DEFINISI NILAI X\n",
        "XS = np.zeros(N)\n",
        "\n",
        "# MENAMPILKAN NILAI X\n",
        "print('___________________________________________________')\n",
        "print(' i ', end='')\n",
        "for p in range(1, N+1):\n",
        "    print(f'a{p} ', end='')\n",
        "print('ERROR')\n",
        "print('___________________________________________________')\n",
        "\n",
        "for kS in range(1, Imax+1):\n",
        "    xinit = XS.copy()\n",
        "    for i in range(N):\n",
        "        Tot = 0\n",
        "        for j in range(N):\n",
        "            if i != j:\n",
        "                Tot = A[i, j]*XS[j] + Tot\n",
        "        XS[i] = (B[i] - Tot)/A[i, i]\n",
        "    ErrorS = np.linalg.norm(np.abs(xinit - XS))\n",
        "    print(f'{kS:3d} ', end='')\n",
        "    for p in range(N):\n",
        "        print(f'{XS[p]:10.7f} ', end='')\n",
        "    print(f'{ErrorS:10.7f}')\n",
        "\n",
        "    if np.abs(xinit - XS).max() < Tol:\n",
        "        break\n",
        "\n",
        "print('___________________________________________________')\n",
        "print('hasil akhir=')\n",
        "print(f'pada iterasi ke-{kS}')\n",
        "for z in range(N):\n",
        "    print(f'a{z+1}={XS[z]:10.7f}')\n",
        "print('___________________________________________________')\n",
        "\n",
        "# Plot grafik konvergensi solusi\n",
        "plt.plot(XS)\n",
        "plt.title('Grafik Metode Gauss-Seidel')\n",
        "plt.xlabel('Iterasi')\n",
        "plt.ylabel('Nilai Solusi')\n",
        "plt.show()"
      ]
    }
  ]
}